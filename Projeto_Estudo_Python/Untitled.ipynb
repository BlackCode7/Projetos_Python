{
 "cells": [
  {
   "cell_type": "code",
   "execution_count": 3,
   "metadata": {},
   "outputs": [
    {
     "name": "stdout",
     "output_type": "stream",
     "text": [
      "Digite uma palavra qualquer: Simone amor de muitos anos atras\n",
      "i\n",
      "o\n",
      "e\n",
      "a\n",
      "u\n"
     ]
    }
   ],
   "source": [
    "vogais = ['a', 'e', 'i', 'o', 'u']\n",
    "palavra = input('Digite uma palavra qualquer: ')\n",
    "palavraVazia = []\n",
    "\n",
    "# função para caçar vogais dentro de palavras\n",
    "def cacaPalavra():\n",
    "    #verificação de vogais dentro da variável palavra\n",
    "    for letra in palavra:\n",
    "        # se a letra estiver dentro da variável vogais\n",
    "        if letra in vogais:\n",
    "            # se a letra não estiver dentro da variável palavraVazia\n",
    "            if letra not in palavraVazia:\n",
    "                # se a letra foi achada fazer o apendice dela detro da variavel palavravazia.append(letra)\n",
    "                palavraVazia.append(letra)\n",
    "    # Se letra estiver dentro da palavraVazia vai mostrar o que achou\n",
    "    for letra in palavraVazia:\n",
    "        print(letra)\n",
    "        \n",
    "cacaPalavra()"
   ]
  },
  {
   "cell_type": "code",
   "execution_count": null,
   "metadata": {},
   "outputs": [],
   "source": [
    "\n"
   ]
  },
  {
   "cell_type": "code",
   "execution_count": null,
   "metadata": {},
   "outputs": [],
   "source": []
  }
 ],
 "metadata": {
  "kernelspec": {
   "display_name": "Python 3",
   "language": "python",
   "name": "python3"
  },
  "language_info": {
   "codemirror_mode": {
    "name": "ipython",
    "version": 3
   },
   "file_extension": ".py",
   "mimetype": "text/x-python",
   "name": "python",
   "nbconvert_exporter": "python",
   "pygments_lexer": "ipython3",
   "version": "3.8.3"
  }
 },
 "nbformat": 4,
 "nbformat_minor": 4
}
